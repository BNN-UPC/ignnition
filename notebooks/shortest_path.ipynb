{
 "nbformat": 4,
 "nbformat_minor": 0,
 "metadata": {
  "colab": {
   "name": "Quick_tutorial_shortest path.ipynb",
   "private_outputs": true,
   "provenance": [
    {
     "file_id": "1Gzo5dnINr32JiM_-niEngjRnBJQ4L1ZG",
     "timestamp": 1632327466505
    },
    {
     "file_id": "1uiw4cdZdCC8-G7DljpcWZ63ARCUxm2Fs",
     "timestamp": 1626855526726
    }
   ],
   "collapsed_sections": [
    "0xDOTzsfMv63",
    "OrFQRnorOQsq"
   ]
  },
  "kernelspec": {
   "name": "python3",
   "display_name": "Python 3"
  },
  "language_info": {
   "name": "python"
  },
  "pycharm": {
   "stem_cell": {
    "cell_type": "raw",
    "source": [
     "#@title\n",
     "\n",
     "<a href=\"https://colab.research.google.com/github/BNN-UPC/ignnition/blob/ft-notebooks/notebooks/shortest_path.ipynb\" target=\"_parent\"><img src=\"https://colab.research.google.com/assets/colab-badge.svg\" alt=\"Open In Colab\"/></a>\n"
    ],
    "metadata": {
     "collapsed": false
    }
   }
  }
 },
 "cells": [
  {
   "cell_type": "markdown",
   "metadata": {
    "id": "0xDOTzsfMv63"
   },
   "source": [
    "# IGNNITION: Quick start tutorial\n",
    "\n",
    "### <u>Problem</u>: Find the shortest path in graphs with a Graph Neural Network\n",
    "\n",
    "Find more details on this quick-start tutorial at:\n",
    "https://ignnition.net/doc/quick_tutorial/\n"
   ]
  },
  {
   "cell_type": "markdown",
   "metadata": {
    "id": "jVb2tPgCkBiS"
   },
   "source": [
    "---\n",
    "# Prepare the environment\n",
    "\n",
    "#### <u>**Note**</u>: Follow the instructions below to finish the installation"
   ]
  },
  {
   "cell_type": "code",
   "metadata": {
    "id": "1A9CVwO-wJUe",
    "collapsed": true,
    "cellView": "form"
   },
   "source": [
    "#@title Installing libraries and load resources\n",
    "\n",
    "#@markdown 1. **Hit \"enter\"** to complete the installation of libraries\n",
    "#@markdown 2. It downloads three YAML files we will need after (train_options.yaml, model_description.yaml, global_variables.yaml)\n",
    "\n",
    "!add-apt-repository ppa:deadsnakes/ppa\n",
    "!apt-get update\n",
    "!apt-get install python3.7\n",
    "!python -m pip install --upgrade pip\n",
    "!pip install jupyter-client==6.1.5\n",
    "!pip install ignnition==1.2.2\n",
    "!pip install ipython-autotime\n",
    "\n",
    "# Download YAML files for this tutorial\n",
    "\n"
   ],
   "execution_count": null,
   "outputs": []
  },
  {
   "cell_type": "code",
   "metadata": {
    "id": "TAoY-pkR1GTH",
    "cellView": "form"
   },
   "source": [
    "#@title Import libraries { form-width: \"30%\" }\n",
    "import networkx as nx\n",
    "import random\n",
    "import json\n",
    "from networkx.readwrite import json_graph\n",
    "import os\n",
    "import ignnition\n",
    "%load_ext tensorboard\n",
    "%load_ext autotime"
   ],
   "execution_count": null,
   "outputs": []
  },
  {
   "cell_type": "code",
   "metadata": {
    "id": "EEnrunxq13BJ",
    "cellView": "form"
   },
   "source": [
    "#@title Generate the datasets (training and validation)\n",
    "import os\n",
    "\n",
    "def generate_random_graph(min_nodes, max_nodes, min_edge_weight, max_edge_weight, p):\n",
    "    while True:\n",
    "        # Create a random Erdos Renyi graph\n",
    "        G = nx.erdos_renyi_graph(random.randint(min_nodes, max_nodes), p)\n",
    "        complement = list(nx.k_edge_augmentation(G, k=1, partial=True))\n",
    "        G.add_edges_from(complement)\n",
    "        nx.set_node_attributes(G, 0, 'src-tgt')\n",
    "        nx.set_node_attributes(G, 0, 'sp')\n",
    "        nx.set_node_attributes(G, 'node', 'entity')\n",
    "\n",
    "        # Assign randomly weights to graph edges\n",
    "        for (u, v, w) in G.edges(data=True):\n",
    "            w['weight'] = random.randint(min_edge_weight, max_edge_weight)\n",
    "\n",
    "        # Select a source and target nodes to compute the shortest path\n",
    "        src, tgt = random.sample(list(G.nodes), 2)\n",
    "\n",
    "        G.nodes[src]['src-tgt'] = 1\n",
    "        G.nodes[tgt]['src-tgt'] = 1\n",
    "\n",
    "        # Compute all the shortest paths between source and target nodes\n",
    "        try:\n",
    "            shortest_paths = list(nx.all_shortest_paths(G, source=src, target=tgt,weight='weight'))\n",
    "        except:\n",
    "            shortest_paths = []\n",
    "        # Check if there exists only one shortest path\n",
    "        if len(shortest_paths) == 1:\n",
    "            for node in shortest_paths[0]:\n",
    "                G.nodes[node]['sp'] = 1\n",
    "            return nx.DiGraph(G)\n",
    "\n",
    "def generate_dataset(file_name, num_samples, min_nodes=5, max_nodes=15, min_edge_weight=1, max_edge_weight=10, p=0.3):\n",
    "    samples = []\n",
    "    for _ in range(num_samples):\n",
    "        G = generate_random_graph(min_nodes, max_nodes, min_edge_weight, max_edge_weight, p)\n",
    "        G.remove_nodes_from([node for node, degree in dict(G.degree()).items() if degree == 0])\n",
    "        samples.append(json_graph.node_link_data(G))\n",
    "\n",
    "    with open(file_name, \"w\") as f:\n",
    "        json.dump(samples, f)\n",
    "\n",
    "root_dir=\"./data\"\n",
    "if not os.path.exists(root_dir):\n",
    "    os.makedirs(root_dir)\n",
    "if not os.path.exists(root_dir+\"/train\"):\n",
    "    os.makedirs(root_dir+\"/train\")\n",
    "if not os.path.exists(root_dir + \"/validation\"):\n",
    "    os.makedirs(root_dir + \"/validation\")\n",
    "generate_dataset(\"./data/train/data.json\", 20000)\n",
    "generate_dataset(\"./data/validation/data.json\", 1000)"
   ],
   "execution_count": null,
   "outputs": []
  },
  {
   "cell_type": "markdown",
   "metadata": {
    "id": "FDYQM2HX49dx"
   },
   "source": [
    "---\n",
    "# GNN model configuration and training"
   ]
  },
  {
   "cell_type": "code",
   "metadata": {
    "id": "FVaNHspM-gAm",
    "cellView": "form"
   },
   "source": [
    "#@title Remove all the modesl previously trained (Checkpoints)\n",
    "#@markdown (It is not needed to execute this the first time)\n",
    "! rm -r ./CheckPoint\n",
    "! rm -r ./computational_graphs"
   ],
   "execution_count": null,
   "outputs": []
  },
  {
   "cell_type": "markdown",
   "metadata": {
    "id": "OrFQRnorOQsq"
   },
   "source": [
    "## 1) Configuration of the GNN model\n",
    "### <u>Exercice</u>: Check and modify the following YAML files to configure your GNN model:\n",
    "* /content/model_description.yaml -> GNN model description\n",
    "* /content/train_options.yaml -> Configuration of training parameters\n",
    "\n",
    "#### **Example**:\n",
    "Try to define an optimizer with learning rate decay and set the number of samples and epochs adding the following lines in the train_options.yaml file:\n",
    "```\n",
    "optimizer:\n",
    "  type: Adam\n",
    "  learning_rate:  # define a schedule\n",
    "    type: ExponentialDecay\n",
    "    initial_learning_rate: 0.001\n",
    "    decay_steps: 10000\n",
    "    decay_rate: 0.5\n",
    "...\n",
    "batch_size: 1\n",
    "epochs: 150\n",
    "epoch_size: 200\n",
    "```\n",
    "\n",
    "In this example, there are a total of 30,000 training samples:\n",
    "\n",
    "1 sample/step * 200 steps/epoch * 150 epochs = 30.000 samples"
   ]
  },
  {
   "cell_type": "markdown",
   "metadata": {
    "id": "hWp1XshBmSmF"
   },
   "source": [
    "## 2) Load TensorBoard and execute the training"
   ]
  },
  {
   "cell_type": "code",
   "metadata": {
    "id": "jOob-OV-BEx-",
    "cellView": "form"
   },
   "source": [
    "#@title Load TensorBoard to visualize the evolution of learning metrics along training\n",
    "#@markdown **IMPORTANT NOTE**: Click on \"settings\" in the TensorBoard GUI and check the option \"Reload data\" to see the evolution in real time. Note you can set the time interval (in seconds) to reload data.\n",
    "from tensorboard import notebook\n",
    "notebook.list() # View open TensorBoard instances\n",
    "\n",
    "dir=\"./CheckPoint\"\n",
    "if not os.path.exists(dir):\n",
    "    os.makedirs(dir)\n",
    "%tensorboard --logdir $dir\n",
    "\n",
    "# Para finalizar instancias anteriores de TensorBoard\n",
    "# !kill 2953\n",
    "# !ps aux"
   ],
   "execution_count": null,
   "outputs": []
  },
  {
   "cell_type": "code",
   "metadata": {
    "id": "IiePG6oWKJ6n",
    "cellView": "form"
   },
   "source": [
    "#@title Running the GNN model training\n",
    "import ignnition\n",
    "\n",
    "def main():\n",
    "    model = ignnition.create_model(model_dir= './')\n",
    "    model.computational_graph()\n",
    "    model.train_and_validate()\n",
    "    #model.predict()\n",
    "\n",
    "\n",
    "if __name__ == \"__main__\":\n",
    "        main ()\n"
   ],
   "execution_count": null,
   "outputs": []
  },
  {
   "cell_type": "markdown",
   "metadata": {
    "id": "wWRr04kRnjd-"
   },
   "source": [
    "---\n",
    "# Make predictions\n",
    "## (This can be only excuted once the training is finished or stopped)\n",
    "#### Modify and **uncomment (\\#)** the \"load_model_path\" variable in /content/train_options.yaml. You need to add the full path to the model checkpoint you want to load ('.hdf5' file)*\n",
    "\n",
    "### **Note**: \n",
    "#### 'hdf5' chekpoints are saved by default as:\n",
    "\n",
    " /content/CheckPoint/\\<experiment_date_time>/cpkt/weights.\\<train_step>.\\<loss>.hdf5\n",
    "\n",
    "Note that <train_step> stands for the number of training nstept for a given checkpoint. In enables to identify the checkpoint you want to load.\n",
    "\n",
    "#### * You may use the option \"copy path\" in the file menu of Colab to get the full path and use it to fill in the train_options.yaml file (click botón derecho sobre el archivo .hdf5)"
   ]
  },
  {
   "cell_type": "code",
   "metadata": {
    "id": "UH0MKjgsoDpA",
    "cellView": "form"
   },
   "source": [
    "#@title Load functions to generate random graphs and print them\n",
    "import os\n",
    "import networkx as nx\n",
    "import matplotlib.pyplot as plt\n",
    "import json\n",
    "from networkx.readwrite import json_graph\n",
    "import ignnition\n",
    "import numpy as np\n",
    "import random\n",
    "%load_ext autotime\n",
    "\n",
    "def generate_random_graph(min_nodes, max_nodes, min_edge_weight, max_edge_weight, p):\n",
    "    while True:\n",
    "        # Create a random Erdos Renyi graph\n",
    "        G = nx.erdos_renyi_graph(random.randint(min_nodes, max_nodes), p)\n",
    "        complement = list(nx.k_edge_augmentation(G, k=1, partial=True))\n",
    "        G.add_edges_from(complement)\n",
    "        nx.set_node_attributes(G, 0, 'src-tgt')\n",
    "        nx.set_node_attributes(G, 0, 'sp')\n",
    "        nx.set_node_attributes(G, 'node', 'entity')\n",
    "\n",
    "        # Assign randomly weights to graph edges\n",
    "        for (u, v, w) in G.edges(data=True):\n",
    "            w['weight'] = random.randint(min_edge_weight, max_edge_weight)\n",
    "\n",
    "        # Select the source and target nodes to compute the shortest path\n",
    "        src, tgt = random.sample(list(G.nodes), 2)\n",
    "\n",
    "        G.nodes[src]['src-tgt'] = 1\n",
    "        G.nodes[tgt]['src-tgt'] = 1\n",
    "\n",
    "        # Compute all the shortest paths between source and target nodes\n",
    "        try:\n",
    "            shortest_paths = list(nx.all_shortest_paths(G, source=src, target=tgt,weight='weight'))\n",
    "        except:\n",
    "            shortest_paths = []\n",
    "        # Check if there exists only one shortest path\n",
    "        if len(shortest_paths) == 1:\n",
    "            if len(shortest_paths[0])>=3 and len(shortest_paths[0])<=5:\n",
    "                for node in shortest_paths[0]:\n",
    "                    G.nodes[node]['sp'] = 1\n",
    "                return shortest_paths[0], nx.DiGraph(G)\n",
    "\n",
    "def print_graph_predictions(G, path, predictions,ax):\n",
    "    predictions = np.array(predictions)\n",
    "    node_border_colors = []\n",
    "    links = []\n",
    "    for i in range(len(path)-1):\n",
    "        links.append([path[i], path[i+1]])\n",
    "        links.append([path[i+1], path[i]])\n",
    "\n",
    "    # Add colors to node borders for source and target nodes\n",
    "    for node in G.nodes(data=True):\n",
    "        if node[1]['src-tgt'] == 1:\n",
    "            node_border_colors.append('red')\n",
    "        else:\n",
    "            node_border_colors.append('white')\n",
    "    # Add colors for predictions [0,1]\n",
    "    node_colors = predictions\n",
    "\n",
    "    # Add colors for edges\n",
    "    edge_colors = []\n",
    "    for edge in G.edges(data=True):\n",
    "        e=[edge[0],edge[1]]\n",
    "        if e in links:\n",
    "            edge_colors.append('red')\n",
    "        else:\n",
    "            edge_colors.append('black')\n",
    "    pos= nx.shell_layout(G)\n",
    "    vmin = node_colors.min()\n",
    "    vmax = node_colors.max()\n",
    "    vmin = 0\n",
    "    vmax = 1\n",
    "    cmap = plt.cm.coolwarm\n",
    "    nx.draw_networkx_nodes(G, pos=pos, node_color=node_colors, cmap=cmap, vmin=vmin, vmax=vmax,\n",
    "                           edgecolors=node_border_colors, linewidths=4, ax=ax)\n",
    "    nx.draw_networkx_edges(G, pos=pos, edge_color=edge_colors, arrows=False, ax=ax, width=2)\n",
    "    nx.draw_networkx_edge_labels(G, pos=pos, label_pos=0.5, edge_labels=nx.get_edge_attributes(G, 'weight'), ax=ax)\n",
    "    sm = plt.cm.ScalarMappable(cmap=cmap, norm=plt.Normalize(vmin=vmin, vmax=vmax))\n",
    "    sm.set_array([])\n",
    "    plt.colorbar(sm, ax=ax)\n",
    "\n",
    "def print_graph_solution(G, path, predictions,ax, pred_th):\n",
    "    predictions = np.array(predictions)\n",
    "    node_colors = []\n",
    "    node_border_colors = []\n",
    "    links = []\n",
    "    for i in range(len(path)-1):\n",
    "        links.append([path[i], path[i+1]])\n",
    "        links.append([path[i+1], path[i]])\n",
    "\n",
    "    # Add colors on node borders for source and target nodes\n",
    "    for node in G.nodes(data=True):\n",
    "        if node[1]['src-tgt'] == 1:\n",
    "            node_border_colors.append('red')\n",
    "        else:\n",
    "            node_border_colors.append('white')\n",
    "\n",
    "    # Add colors for predictions Blue or Red\n",
    "    cmap = plt.cm.get_cmap('coolwarm')\n",
    "    dark_red = cmap(1.0)\n",
    "    for p in predictions:\n",
    "        if p >= pred_th:\n",
    "            node_colors.append(dark_red)\n",
    "        else:\n",
    "            node_colors.append('blue')\n",
    "\n",
    "    # Add colors for edges\n",
    "    edge_colors = []\n",
    "    for edge in G.edges(data=True):\n",
    "        e=[edge[0],edge[1]]\n",
    "        if e in links:\n",
    "            edge_colors.append('red')\n",
    "        else:\n",
    "            edge_colors.append('black')\n",
    "    pos= nx.shell_layout(G)\n",
    "    nx.draw_networkx_nodes(G, pos=pos, node_color=node_colors, edgecolors=node_border_colors, linewidths=4, ax=ax)\n",
    "    nx.draw_networkx_edges(G, pos=pos, edge_color=edge_colors, arrows=False, ax=ax, width=2)\n",
    "    nx.draw_networkx_edge_labels(G, pos=pos, label_pos=0.5, edge_labels=nx.get_edge_attributes(G, 'weight'), ax=ax)\n",
    "\n",
    "def print_input_graph(G, ax):\n",
    "    node_colors = []\n",
    "    node_border_colors = []\n",
    "\n",
    "    # Add colors to node borders for source and target nodes\n",
    "    for node in G.nodes(data=True):\n",
    "        if node[1]['src-tgt'] == 1:\n",
    "            node_border_colors.append('red')\n",
    "        else:\n",
    "            node_border_colors.append('white')\n",
    "\n",
    "    pos= nx.shell_layout(G)\n",
    "    nx.draw_networkx_nodes(G, pos=pos, edgecolors=node_border_colors, linewidths=4, ax=ax)\n",
    "    nx.draw_networkx_edges(G, pos=pos, arrows=False, ax=ax, width=2)\n",
    "    nx.draw_networkx_edge_labels(G, pos=pos, label_pos=0.5, edge_labels=nx.get_edge_attributes(G, 'weight'), ax=ax)"
   ],
   "execution_count": null,
   "outputs": []
  },
  {
   "cell_type": "code",
   "metadata": {
    "id": "cL3IDquZpSdP",
    "cellView": "form",
    "pycharm": {
     "name": "#%%\n"
    }
   },
   "source": [
    "#@title Load a trained model and make predictions on random graphs\n",
    "#@markdown **NOTE**: You should check you can read the message \"Restoring from \\<load_model_path\\>\" at the beginning of the execution.\n",
    "\n",
    "#@markdown Otherwise, there should be a failure to load the trained model. In this case, please check that the variable \"load_model_path\" in /content/train_options.yaml points to the correct path.\n",
    "\n",
    "dataset_samples = []\n",
    "sh_path, G = generate_random_graph(min_nodes=8, max_nodes=12, min_edge_weight=1, max_edge_weight=10, p=0.3)\n",
    "graph = G.to_undirected()\n",
    "dataset_samples.append(json_graph.node_link_data(G))\n",
    "\n",
    "# write prediction dataset\n",
    "root_dir=\"./data\"\n",
    "if not os.path.exists(root_dir):\n",
    "    os.makedirs(root_dir)\n",
    "if not os.path.exists(root_dir+\"/test\"):\n",
    "    os.makedirs(root_dir+\"/test\")\n",
    "with open(root_dir+\"/test/data.json\", \"w\") as f:\n",
    "    json.dump(dataset_samples, f)\n",
    "\n",
    "# Load the model and make predictions\n",
    "model = ignnition.create_model(model_dir='./')\n",
    "predictions = model.predict()\n",
    "\n",
    "# Print the results\n",
    "fig, axes = plt.subplots(nrows=1, ncols=3)\n",
    "ax = axes.flatten()\n",
    "\n",
    "# Print input graph\n",
    "ax1 = ax[0]\n",
    "ax1.set_title(\"Input graph\")\n",
    "print_input_graph(graph, ax1)\n",
    "\n",
    "# Print graph with predictions (soft values)\n",
    "ax1 = ax[1]\n",
    "ax1.set_title(\"GNN predictions (soft values)\")\n",
    "print_graph_predictions(graph, sh_path, predictions[0], ax1)\n",
    "\n",
    "# Print solution of the GNN\n",
    "pred_th = 0.5\n",
    "ax1 = ax[2]\n",
    "ax1.set_title(\"GNN solution (p >= \"+str(pred_th)+\")\")\n",
    "print_graph_solution(graph, sh_path, predictions[0], ax1, pred_th)\n",
    "\n",
    "# Show plot in full screen\n",
    "plt.rcParams['figure.figsize'] = [10, 4]\n",
    "plt.rcParams['figure.dpi'] = 100\n",
    "plt.show()\n"
   ],
   "execution_count": null,
   "outputs": []
  }
 ]
}